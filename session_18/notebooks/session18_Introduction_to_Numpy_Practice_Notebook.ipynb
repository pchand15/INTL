{
 "cells": [
  {
   "cell_type": "markdown",
   "id": "de19f5c4",
   "metadata": {},
   "source": [
    "## Import Statement"
   ]
  },
  {
   "cell_type": "code",
   "execution_count": null,
   "id": "a39d79ba",
   "metadata": {},
   "outputs": [],
   "source": []
  },
  {
   "cell_type": "markdown",
   "id": "c80fee41",
   "metadata": {},
   "source": [
    "## Creating Arrays"
   ]
  },
  {
   "cell_type": "code",
   "execution_count": null,
   "id": "d498a25f",
   "metadata": {},
   "outputs": [],
   "source": []
  },
  {
   "cell_type": "markdown",
   "id": "1fd138b5",
   "metadata": {},
   "source": [
    "###  Some Important functions of Numpy"
   ]
  },
  {
   "cell_type": "code",
   "execution_count": null,
   "id": "41264343",
   "metadata": {},
   "outputs": [],
   "source": []
  },
  {
   "cell_type": "markdown",
   "id": "6cff374d",
   "metadata": {},
   "source": [
    "##  Save the files"
   ]
  },
  {
   "cell_type": "code",
   "execution_count": null,
   "id": "b36f4427",
   "metadata": {},
   "outputs": [],
   "source": []
  },
  {
   "cell_type": "markdown",
   "id": "b24f01e9",
   "metadata": {},
   "source": [
    "## Explore Help Functions"
   ]
  },
  {
   "cell_type": "code",
   "execution_count": null,
   "id": "93b30c6a",
   "metadata": {},
   "outputs": [],
   "source": []
  },
  {
   "cell_type": "markdown",
   "id": "0dbcb6fb",
   "metadata": {},
   "source": [
    "##  Explore the Numpy arrays"
   ]
  },
  {
   "cell_type": "code",
   "execution_count": null,
   "id": "8a945cdd",
   "metadata": {},
   "outputs": [],
   "source": []
  },
  {
   "cell_type": "markdown",
   "id": "e83949b7",
   "metadata": {},
   "source": [
    "## Data types"
   ]
  },
  {
   "cell_type": "code",
   "execution_count": null,
   "id": "18d2377f",
   "metadata": {},
   "outputs": [],
   "source": []
  },
  {
   "cell_type": "markdown",
   "id": "0bfe56ee",
   "metadata": {},
   "source": [
    "##  Arithmetic Operations"
   ]
  },
  {
   "cell_type": "code",
   "execution_count": null,
   "id": "3327952d",
   "metadata": {},
   "outputs": [],
   "source": []
  },
  {
   "cell_type": "markdown",
   "id": "91730218",
   "metadata": {},
   "source": [
    "##  Comparision"
   ]
  },
  {
   "cell_type": "code",
   "execution_count": null,
   "id": "01f33ed1",
   "metadata": {},
   "outputs": [],
   "source": []
  },
  {
   "cell_type": "markdown",
   "id": "77cd8d89",
   "metadata": {},
   "source": [
    "##  Copying Arrays"
   ]
  },
  {
   "cell_type": "code",
   "execution_count": null,
   "id": "f6f5a10a",
   "metadata": {},
   "outputs": [],
   "source": []
  },
  {
   "cell_type": "markdown",
   "id": "79d1b9ca",
   "metadata": {},
   "source": [
    "## Sorting Arrays"
   ]
  },
  {
   "cell_type": "code",
   "execution_count": null,
   "id": "7bc5f844",
   "metadata": {},
   "outputs": [],
   "source": []
  },
  {
   "cell_type": "markdown",
   "id": "9bb4ec7a",
   "metadata": {},
   "source": [
    "## Subsetting, Slicing, Indexing"
   ]
  },
  {
   "cell_type": "code",
   "execution_count": null,
   "id": "8017a7b1",
   "metadata": {},
   "outputs": [],
   "source": []
  },
  {
   "cell_type": "markdown",
   "id": "0dac8764",
   "metadata": {},
   "source": [
    "##  Array Manipulation"
   ]
  },
  {
   "cell_type": "code",
   "execution_count": null,
   "id": "c9475aaa",
   "metadata": {},
   "outputs": [],
   "source": []
  },
  {
   "cell_type": "markdown",
   "id": "16a59528",
   "metadata": {},
   "source": [
    "##  Changing Array Shape"
   ]
  },
  {
   "cell_type": "code",
   "execution_count": null,
   "id": "03981af9",
   "metadata": {},
   "outputs": [],
   "source": []
  },
  {
   "cell_type": "markdown",
   "id": "d54cf0ad",
   "metadata": {},
   "source": [
    "##  Insert , delete and Update operations"
   ]
  },
  {
   "cell_type": "code",
   "execution_count": null,
   "id": "da566eb3",
   "metadata": {},
   "outputs": [],
   "source": []
  },
  {
   "cell_type": "markdown",
   "id": "8ba6f4cf",
   "metadata": {},
   "source": [
    "##  Concatenating two arrays (Adding two arrays)"
   ]
  },
  {
   "cell_type": "code",
   "execution_count": null,
   "id": "f6ed2be9",
   "metadata": {},
   "outputs": [],
   "source": []
  },
  {
   "cell_type": "markdown",
   "id": "8511912e",
   "metadata": {},
   "source": [
    "##  Split Arrays"
   ]
  },
  {
   "cell_type": "code",
   "execution_count": null,
   "id": "c92544f1",
   "metadata": {},
   "outputs": [],
   "source": []
  },
  {
   "cell_type": "markdown",
   "id": "a1544217",
   "metadata": {},
   "source": [
    "----"
   ]
  },
  {
   "cell_type": "markdown",
   "id": "db370ed9",
   "metadata": {},
   "source": [
    "## <font color = 'green'> Happy Coding!! </font>"
   ]
  },
  {
   "cell_type": "code",
   "execution_count": null,
   "id": "54ffa5fb",
   "metadata": {},
   "outputs": [],
   "source": []
  }
 ],
 "metadata": {
  "kernelspec": {
   "display_name": "Python 3 (ipykernel)",
   "language": "python",
   "name": "python3"
  },
  "language_info": {
   "codemirror_mode": {
    "name": "ipython",
    "version": 3
   },
   "file_extension": ".py",
   "mimetype": "text/x-python",
   "name": "python",
   "nbconvert_exporter": "python",
   "pygments_lexer": "ipython3",
   "version": "3.8.5"
  }
 },
 "nbformat": 4,
 "nbformat_minor": 5
}
